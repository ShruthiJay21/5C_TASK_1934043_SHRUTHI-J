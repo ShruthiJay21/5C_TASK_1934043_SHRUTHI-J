{
 "cells": [
  {
   "cell_type": "code",
   "execution_count": 111,
   "id": "87e0108b",
   "metadata": {},
   "outputs": [],
   "source": [
    "import pandas as pd\n",
    "import numpy as np"
   ]
  },
  {
   "cell_type": "code",
   "execution_count": 112,
   "id": "e48bcf3f",
   "metadata": {},
   "outputs": [],
   "source": [
    "# Load the CSV data into a DataFrame\n",
    "data = pd.read_csv(\"sales_data_1.csv\")"
   ]
  },
  {
   "cell_type": "code",
   "execution_count": 113,
   "id": "92c52b3e",
   "metadata": {},
   "outputs": [
    {
     "data": {
      "text/html": [
       "<div>\n",
       "<style scoped>\n",
       "    .dataframe tbody tr th:only-of-type {\n",
       "        vertical-align: middle;\n",
       "    }\n",
       "\n",
       "    .dataframe tbody tr th {\n",
       "        vertical-align: top;\n",
       "    }\n",
       "\n",
       "    .dataframe thead th {\n",
       "        text-align: right;\n",
       "    }\n",
       "</style>\n",
       "<table border=\"1\" class=\"dataframe\">\n",
       "  <thead>\n",
       "    <tr style=\"text-align: right;\">\n",
       "      <th></th>\n",
       "      <th>Date</th>\n",
       "      <th>Firm bought from</th>\n",
       "      <th>Buying price</th>\n",
       "      <th>Customer</th>\n",
       "      <th>Selling price</th>\n",
       "      <th>Quantity sold</th>\n",
       "    </tr>\n",
       "  </thead>\n",
       "  <tbody>\n",
       "    <tr>\n",
       "      <th>0</th>\n",
       "      <td>21/08/23</td>\n",
       "      <td>Vendor6</td>\n",
       "      <td>72.11</td>\n",
       "      <td>Customer7</td>\n",
       "      <td>91.58</td>\n",
       "      <td>44</td>\n",
       "    </tr>\n",
       "    <tr>\n",
       "      <th>1</th>\n",
       "      <td>21/08/23</td>\n",
       "      <td>Vendor4</td>\n",
       "      <td>75.08</td>\n",
       "      <td>Customer7</td>\n",
       "      <td>83.71</td>\n",
       "      <td>17</td>\n",
       "    </tr>\n",
       "    <tr>\n",
       "      <th>2</th>\n",
       "      <td>21/08/23</td>\n",
       "      <td>Vendor7</td>\n",
       "      <td>83.93</td>\n",
       "      <td>Customer2</td>\n",
       "      <td>103.76</td>\n",
       "      <td>15</td>\n",
       "    </tr>\n",
       "    <tr>\n",
       "      <th>3</th>\n",
       "      <td>21/08/23</td>\n",
       "      <td>Vendor7</td>\n",
       "      <td>52.01</td>\n",
       "      <td>Customer3</td>\n",
       "      <td>64.53</td>\n",
       "      <td>7</td>\n",
       "    </tr>\n",
       "    <tr>\n",
       "      <th>4</th>\n",
       "      <td>21/08/23</td>\n",
       "      <td>Vendor2</td>\n",
       "      <td>98.91</td>\n",
       "      <td>Customer5</td>\n",
       "      <td>140.92</td>\n",
       "      <td>1</td>\n",
       "    </tr>\n",
       "  </tbody>\n",
       "</table>\n",
       "</div>"
      ],
      "text/plain": [
       "       Date Firm bought from  Buying price   Customer  Selling price  \\\n",
       "0  21/08/23          Vendor6         72.11  Customer7          91.58   \n",
       "1  21/08/23          Vendor4         75.08  Customer7          83.71   \n",
       "2  21/08/23          Vendor7         83.93  Customer2         103.76   \n",
       "3  21/08/23          Vendor7         52.01  Customer3          64.53   \n",
       "4  21/08/23          Vendor2         98.91  Customer5         140.92   \n",
       "\n",
       "   Quantity sold  \n",
       "0             44  \n",
       "1             17  \n",
       "2             15  \n",
       "3              7  \n",
       "4              1  "
      ]
     },
     "execution_count": 113,
     "metadata": {},
     "output_type": "execute_result"
    }
   ],
   "source": [
    "data.head()"
   ]
  },
  {
   "cell_type": "code",
   "execution_count": 114,
   "id": "c587950a",
   "metadata": {},
   "outputs": [
    {
     "data": {
      "text/plain": [
       "(70, 6)"
      ]
     },
     "execution_count": 114,
     "metadata": {},
     "output_type": "execute_result"
    }
   ],
   "source": [
    "data.shape"
   ]
  },
  {
   "cell_type": "code",
   "execution_count": 115,
   "id": "33e18f8f",
   "metadata": {},
   "outputs": [],
   "source": [
    "#Remove Duplicates\n",
    "data = data.drop_duplicates()"
   ]
  },
  {
   "cell_type": "code",
   "execution_count": 116,
   "id": "9edb9411",
   "metadata": {},
   "outputs": [],
   "source": [
    "#Drop the missing values\n",
    "data.dropna(inplace=True)"
   ]
  },
  {
   "cell_type": "code",
   "execution_count": 117,
   "id": "8e1e86a8",
   "metadata": {},
   "outputs": [],
   "source": [
    "# Convert the \"Date\" column to datetime format\n",
    "data['Date'] = pd.to_datetime(data['Date'])"
   ]
  },
  {
   "cell_type": "code",
   "execution_count": 118,
   "id": "dc68af42",
   "metadata": {},
   "outputs": [
    {
     "data": {
      "text/html": [
       "<div>\n",
       "<style scoped>\n",
       "    .dataframe tbody tr th:only-of-type {\n",
       "        vertical-align: middle;\n",
       "    }\n",
       "\n",
       "    .dataframe tbody tr th {\n",
       "        vertical-align: top;\n",
       "    }\n",
       "\n",
       "    .dataframe thead th {\n",
       "        text-align: right;\n",
       "    }\n",
       "</style>\n",
       "<table border=\"1\" class=\"dataframe\">\n",
       "  <thead>\n",
       "    <tr style=\"text-align: right;\">\n",
       "      <th></th>\n",
       "      <th>Date</th>\n",
       "      <th>Firm bought from</th>\n",
       "      <th>Buying price</th>\n",
       "      <th>Customer</th>\n",
       "      <th>Selling price</th>\n",
       "      <th>Quantity sold</th>\n",
       "    </tr>\n",
       "  </thead>\n",
       "  <tbody>\n",
       "    <tr>\n",
       "      <th>0</th>\n",
       "      <td>2023-08-21</td>\n",
       "      <td>Vendor6</td>\n",
       "      <td>72.11</td>\n",
       "      <td>Customer7</td>\n",
       "      <td>91.58</td>\n",
       "      <td>44</td>\n",
       "    </tr>\n",
       "    <tr>\n",
       "      <th>1</th>\n",
       "      <td>2023-08-21</td>\n",
       "      <td>Vendor4</td>\n",
       "      <td>75.08</td>\n",
       "      <td>Customer7</td>\n",
       "      <td>83.71</td>\n",
       "      <td>17</td>\n",
       "    </tr>\n",
       "    <tr>\n",
       "      <th>2</th>\n",
       "      <td>2023-08-21</td>\n",
       "      <td>Vendor7</td>\n",
       "      <td>83.93</td>\n",
       "      <td>Customer2</td>\n",
       "      <td>103.76</td>\n",
       "      <td>15</td>\n",
       "    </tr>\n",
       "    <tr>\n",
       "      <th>3</th>\n",
       "      <td>2023-08-21</td>\n",
       "      <td>Vendor7</td>\n",
       "      <td>52.01</td>\n",
       "      <td>Customer3</td>\n",
       "      <td>64.53</td>\n",
       "      <td>7</td>\n",
       "    </tr>\n",
       "    <tr>\n",
       "      <th>4</th>\n",
       "      <td>2023-08-21</td>\n",
       "      <td>Vendor2</td>\n",
       "      <td>98.91</td>\n",
       "      <td>Customer5</td>\n",
       "      <td>140.92</td>\n",
       "      <td>1</td>\n",
       "    </tr>\n",
       "    <tr>\n",
       "      <th>5</th>\n",
       "      <td>2023-08-21</td>\n",
       "      <td>Vendor9</td>\n",
       "      <td>63.34</td>\n",
       "      <td>Customer4</td>\n",
       "      <td>85.13</td>\n",
       "      <td>83</td>\n",
       "    </tr>\n",
       "    <tr>\n",
       "      <th>6</th>\n",
       "      <td>2023-08-21</td>\n",
       "      <td>Vendor2</td>\n",
       "      <td>74.34</td>\n",
       "      <td>Customer6</td>\n",
       "      <td>106.93</td>\n",
       "      <td>6</td>\n",
       "    </tr>\n",
       "    <tr>\n",
       "      <th>7</th>\n",
       "      <td>2023-08-21</td>\n",
       "      <td>Vendor3</td>\n",
       "      <td>98.11</td>\n",
       "      <td>Customer2</td>\n",
       "      <td>146.76</td>\n",
       "      <td>62</td>\n",
       "    </tr>\n",
       "    <tr>\n",
       "      <th>8</th>\n",
       "      <td>2023-08-21</td>\n",
       "      <td>Vendor1</td>\n",
       "      <td>20.95</td>\n",
       "      <td>Customer3</td>\n",
       "      <td>24.48</td>\n",
       "      <td>22</td>\n",
       "    </tr>\n",
       "    <tr>\n",
       "      <th>9</th>\n",
       "      <td>2023-08-21</td>\n",
       "      <td>Vendor5</td>\n",
       "      <td>88.45</td>\n",
       "      <td>Customer7</td>\n",
       "      <td>102.31</td>\n",
       "      <td>23</td>\n",
       "    </tr>\n",
       "  </tbody>\n",
       "</table>\n",
       "</div>"
      ],
      "text/plain": [
       "        Date Firm bought from  Buying price   Customer  Selling price  \\\n",
       "0 2023-08-21          Vendor6         72.11  Customer7          91.58   \n",
       "1 2023-08-21          Vendor4         75.08  Customer7          83.71   \n",
       "2 2023-08-21          Vendor7         83.93  Customer2         103.76   \n",
       "3 2023-08-21          Vendor7         52.01  Customer3          64.53   \n",
       "4 2023-08-21          Vendor2         98.91  Customer5         140.92   \n",
       "5 2023-08-21          Vendor9         63.34  Customer4          85.13   \n",
       "6 2023-08-21          Vendor2         74.34  Customer6         106.93   \n",
       "7 2023-08-21          Vendor3         98.11  Customer2         146.76   \n",
       "8 2023-08-21          Vendor1         20.95  Customer3          24.48   \n",
       "9 2023-08-21          Vendor5         88.45  Customer7         102.31   \n",
       "\n",
       "   Quantity sold  \n",
       "0             44  \n",
       "1             17  \n",
       "2             15  \n",
       "3              7  \n",
       "4              1  \n",
       "5             83  \n",
       "6              6  \n",
       "7             62  \n",
       "8             22  \n",
       "9             23  "
      ]
     },
     "execution_count": 118,
     "metadata": {},
     "output_type": "execute_result"
    }
   ],
   "source": [
    "data.head(10)"
   ]
  },
  {
   "cell_type": "code",
   "execution_count": 119,
   "id": "37320c59",
   "metadata": {},
   "outputs": [],
   "source": [
    "# Calculate the gross margin for each transaction\n",
    "data[\"Gross Margin\"] = data[\"Selling price\"] - data[\"Buying price\"]"
   ]
  },
  {
   "cell_type": "code",
   "execution_count": 120,
   "id": "ccafe9ab",
   "metadata": {},
   "outputs": [
    {
     "data": {
      "text/html": [
       "<div>\n",
       "<style scoped>\n",
       "    .dataframe tbody tr th:only-of-type {\n",
       "        vertical-align: middle;\n",
       "    }\n",
       "\n",
       "    .dataframe tbody tr th {\n",
       "        vertical-align: top;\n",
       "    }\n",
       "\n",
       "    .dataframe thead th {\n",
       "        text-align: right;\n",
       "    }\n",
       "</style>\n",
       "<table border=\"1\" class=\"dataframe\">\n",
       "  <thead>\n",
       "    <tr style=\"text-align: right;\">\n",
       "      <th></th>\n",
       "      <th>Date</th>\n",
       "      <th>Firm bought from</th>\n",
       "      <th>Buying price</th>\n",
       "      <th>Customer</th>\n",
       "      <th>Selling price</th>\n",
       "      <th>Quantity sold</th>\n",
       "      <th>Gross Margin</th>\n",
       "    </tr>\n",
       "  </thead>\n",
       "  <tbody>\n",
       "    <tr>\n",
       "      <th>0</th>\n",
       "      <td>2023-08-21</td>\n",
       "      <td>Vendor6</td>\n",
       "      <td>72.11</td>\n",
       "      <td>Customer7</td>\n",
       "      <td>91.58</td>\n",
       "      <td>44</td>\n",
       "      <td>19.47</td>\n",
       "    </tr>\n",
       "    <tr>\n",
       "      <th>1</th>\n",
       "      <td>2023-08-21</td>\n",
       "      <td>Vendor4</td>\n",
       "      <td>75.08</td>\n",
       "      <td>Customer7</td>\n",
       "      <td>83.71</td>\n",
       "      <td>17</td>\n",
       "      <td>8.63</td>\n",
       "    </tr>\n",
       "    <tr>\n",
       "      <th>2</th>\n",
       "      <td>2023-08-21</td>\n",
       "      <td>Vendor7</td>\n",
       "      <td>83.93</td>\n",
       "      <td>Customer2</td>\n",
       "      <td>103.76</td>\n",
       "      <td>15</td>\n",
       "      <td>19.83</td>\n",
       "    </tr>\n",
       "    <tr>\n",
       "      <th>3</th>\n",
       "      <td>2023-08-21</td>\n",
       "      <td>Vendor7</td>\n",
       "      <td>52.01</td>\n",
       "      <td>Customer3</td>\n",
       "      <td>64.53</td>\n",
       "      <td>7</td>\n",
       "      <td>12.52</td>\n",
       "    </tr>\n",
       "    <tr>\n",
       "      <th>4</th>\n",
       "      <td>2023-08-21</td>\n",
       "      <td>Vendor2</td>\n",
       "      <td>98.91</td>\n",
       "      <td>Customer5</td>\n",
       "      <td>140.92</td>\n",
       "      <td>1</td>\n",
       "      <td>42.01</td>\n",
       "    </tr>\n",
       "    <tr>\n",
       "      <th>5</th>\n",
       "      <td>2023-08-21</td>\n",
       "      <td>Vendor9</td>\n",
       "      <td>63.34</td>\n",
       "      <td>Customer4</td>\n",
       "      <td>85.13</td>\n",
       "      <td>83</td>\n",
       "      <td>21.79</td>\n",
       "    </tr>\n",
       "    <tr>\n",
       "      <th>6</th>\n",
       "      <td>2023-08-21</td>\n",
       "      <td>Vendor2</td>\n",
       "      <td>74.34</td>\n",
       "      <td>Customer6</td>\n",
       "      <td>106.93</td>\n",
       "      <td>6</td>\n",
       "      <td>32.59</td>\n",
       "    </tr>\n",
       "    <tr>\n",
       "      <th>7</th>\n",
       "      <td>2023-08-21</td>\n",
       "      <td>Vendor3</td>\n",
       "      <td>98.11</td>\n",
       "      <td>Customer2</td>\n",
       "      <td>146.76</td>\n",
       "      <td>62</td>\n",
       "      <td>48.65</td>\n",
       "    </tr>\n",
       "    <tr>\n",
       "      <th>8</th>\n",
       "      <td>2023-08-21</td>\n",
       "      <td>Vendor1</td>\n",
       "      <td>20.95</td>\n",
       "      <td>Customer3</td>\n",
       "      <td>24.48</td>\n",
       "      <td>22</td>\n",
       "      <td>3.53</td>\n",
       "    </tr>\n",
       "    <tr>\n",
       "      <th>9</th>\n",
       "      <td>2023-08-21</td>\n",
       "      <td>Vendor5</td>\n",
       "      <td>88.45</td>\n",
       "      <td>Customer7</td>\n",
       "      <td>102.31</td>\n",
       "      <td>23</td>\n",
       "      <td>13.86</td>\n",
       "    </tr>\n",
       "  </tbody>\n",
       "</table>\n",
       "</div>"
      ],
      "text/plain": [
       "        Date Firm bought from  Buying price   Customer  Selling price  \\\n",
       "0 2023-08-21          Vendor6         72.11  Customer7          91.58   \n",
       "1 2023-08-21          Vendor4         75.08  Customer7          83.71   \n",
       "2 2023-08-21          Vendor7         83.93  Customer2         103.76   \n",
       "3 2023-08-21          Vendor7         52.01  Customer3          64.53   \n",
       "4 2023-08-21          Vendor2         98.91  Customer5         140.92   \n",
       "5 2023-08-21          Vendor9         63.34  Customer4          85.13   \n",
       "6 2023-08-21          Vendor2         74.34  Customer6         106.93   \n",
       "7 2023-08-21          Vendor3         98.11  Customer2         146.76   \n",
       "8 2023-08-21          Vendor1         20.95  Customer3          24.48   \n",
       "9 2023-08-21          Vendor5         88.45  Customer7         102.31   \n",
       "\n",
       "   Quantity sold  Gross Margin  \n",
       "0             44         19.47  \n",
       "1             17          8.63  \n",
       "2             15         19.83  \n",
       "3              7         12.52  \n",
       "4              1         42.01  \n",
       "5             83         21.79  \n",
       "6              6         32.59  \n",
       "7             62         48.65  \n",
       "8             22          3.53  \n",
       "9             23         13.86  "
      ]
     },
     "execution_count": 120,
     "metadata": {},
     "output_type": "execute_result"
    }
   ],
   "source": [
    "data.head(10)"
   ]
  },
  {
   "cell_type": "code",
   "execution_count": 121,
   "id": "4e0c3ddd",
   "metadata": {},
   "outputs": [
    {
     "name": "stdout",
     "output_type": "stream",
     "text": [
      "Overall Gross Margin Percentage: 23.33236050738993\n"
     ]
    }
   ],
   "source": [
    "# 1. Calculate the overall gross margin\n",
    "overall_gross_margin = data[\"Gross Margin\"].sum()\n",
    "print(\"Overall Gross Margin Percentage:\", overall_gross_margin_percentage)"
   ]
  },
  {
   "cell_type": "code",
   "execution_count": 122,
   "id": "7f804e7b",
   "metadata": {},
   "outputs": [
    {
     "name": "stdout",
     "output_type": "stream",
     "text": [
      "Most Profitable Vendor: Vendor7\n"
     ]
    }
   ],
   "source": [
    "# 2. Most Profitable Vendor\n",
    "vendor_profit =data.groupby('Firm bought from')['Selling price'].sum() - data.groupby('Firm bought from')['Buying price'].sum()\n",
    "most_profitable_vendor = vendor_profit.idxmax()\n",
    "\n",
    "print(\"Most Profitable Vendor:\", most_profitable_vendor)"
   ]
  },
  {
   "cell_type": "code",
   "execution_count": 123,
   "id": "fafed72e",
   "metadata": {},
   "outputs": [
    {
     "name": "stdout",
     "output_type": "stream",
     "text": [
      "Least Profitable Customer: Customer9\n"
     ]
    }
   ],
   "source": [
    "# 3. Least Profitable Customer\n",
    "customer_profit = data.groupby('Customer')['Selling price'].sum() - data.groupby('Customer')['Buying price'].sum()\n",
    "least_profitable_customer = customer_profit.idxmin()\n",
    "\n",
    "print(\"Least Profitable Customer:\", least_profitable_customer)"
   ]
  },
  {
   "cell_type": "code",
   "execution_count": 124,
   "id": "1d727495",
   "metadata": {},
   "outputs": [
    {
     "name": "stdout",
     "output_type": "stream",
     "text": [
      "Most Profitable Day of the Week: Monday\n"
     ]
    }
   ],
   "source": [
    "# 4. Most Profitable Day of the Week\n",
    "data[\"Day of the week\"] = data['Date'].dt.day_name()\n",
    "most_profitable_day = data.groupby(\"Day of the week\")[\"Gross Margin\"].sum().idxmax()\n",
    "\n",
    "print(\"Most Profitable Day of the Week:\", most_profitable_day)"
   ]
  },
  {
   "cell_type": "code",
   "execution_count": 125,
   "id": "e72b5c6c",
   "metadata": {},
   "outputs": [
    {
     "name": "stdout",
     "output_type": "stream",
     "text": [
      "Least Profitable Day of the Week: Thursday\n"
     ]
    }
   ],
   "source": [
    "# 5. Calculate the least profitable day of the week\n",
    "least_profitable_day = data.groupby(\"Day of the week\")[\"Gross Margin\"].sum().idxmin()\n",
    "\n",
    "print(\"Least Profitable Day of the Week:\", least_profitable_day)"
   ]
  },
  {
   "cell_type": "code",
   "execution_count": 126,
   "id": "27ccdbbc",
   "metadata": {},
   "outputs": [
    {
     "name": "stdout",
     "output_type": "stream",
     "text": [
      "1. Overall Gross Margin: 1207.1999999999998\n",
      "2. Most Profitable Vendor: Vendor7\n",
      "3. Least Profitable Customer: Customer9\n",
      "4. Most Profitable Day of the Week: Monday\n",
      "5. Least Profitable Day of the Week: Thursday\n"
     ]
    }
   ],
   "source": [
    "print(\"1. Overall Gross Margin:\", overall_gross_margin)\n",
    "print(\"2. Most Profitable Vendor:\", most_profitable_vendor)\n",
    "print(\"3. Least Profitable Customer:\", least_profitable_customer)\n",
    "print(\"4. Most Profitable Day of the Week:\", most_profitable_day)\n",
    "print(\"5. Least Profitable Day of the Week:\", least_profitable_day)"
   ]
  },
  {
   "cell_type": "code",
   "execution_count": 127,
   "id": "affff18c",
   "metadata": {},
   "outputs": [],
   "source": [
    "# Load the next dataset\n",
    "data_2 = pd.read_csv(\"sales_data_2.csv\")"
   ]
  },
  {
   "cell_type": "code",
   "execution_count": 128,
   "id": "5c9b4d36",
   "metadata": {},
   "outputs": [
    {
     "data": {
      "text/html": [
       "<div>\n",
       "<style scoped>\n",
       "    .dataframe tbody tr th:only-of-type {\n",
       "        vertical-align: middle;\n",
       "    }\n",
       "\n",
       "    .dataframe tbody tr th {\n",
       "        vertical-align: top;\n",
       "    }\n",
       "\n",
       "    .dataframe thead th {\n",
       "        text-align: right;\n",
       "    }\n",
       "</style>\n",
       "<table border=\"1\" class=\"dataframe\">\n",
       "  <thead>\n",
       "    <tr style=\"text-align: right;\">\n",
       "      <th></th>\n",
       "      <th>Date</th>\n",
       "      <th>Firm bought from</th>\n",
       "      <th>Buying price</th>\n",
       "      <th>Quantity bought</th>\n",
       "      <th>Customer</th>\n",
       "      <th>Selling price</th>\n",
       "      <th>Quantity sold</th>\n",
       "    </tr>\n",
       "  </thead>\n",
       "  <tbody>\n",
       "    <tr>\n",
       "      <th>0</th>\n",
       "      <td>2023-08-21</td>\n",
       "      <td>Vendor6</td>\n",
       "      <td>72.11</td>\n",
       "      <td>60</td>\n",
       "      <td>Customer7</td>\n",
       "      <td>91.58</td>\n",
       "      <td>44</td>\n",
       "    </tr>\n",
       "    <tr>\n",
       "      <th>1</th>\n",
       "      <td>2023-08-21</td>\n",
       "      <td>Vendor4</td>\n",
       "      <td>75.08</td>\n",
       "      <td>92</td>\n",
       "      <td>Customer7</td>\n",
       "      <td>83.71</td>\n",
       "      <td>17</td>\n",
       "    </tr>\n",
       "    <tr>\n",
       "      <th>2</th>\n",
       "      <td>2023-08-21</td>\n",
       "      <td>Vendor7</td>\n",
       "      <td>83.93</td>\n",
       "      <td>16</td>\n",
       "      <td>Customer2</td>\n",
       "      <td>103.76</td>\n",
       "      <td>15</td>\n",
       "    </tr>\n",
       "    <tr>\n",
       "      <th>3</th>\n",
       "      <td>2023-08-21</td>\n",
       "      <td>Vendor7</td>\n",
       "      <td>52.01</td>\n",
       "      <td>62</td>\n",
       "      <td>Customer3</td>\n",
       "      <td>64.53</td>\n",
       "      <td>7</td>\n",
       "    </tr>\n",
       "    <tr>\n",
       "      <th>4</th>\n",
       "      <td>2023-08-21</td>\n",
       "      <td>Vendor2</td>\n",
       "      <td>98.91</td>\n",
       "      <td>1</td>\n",
       "      <td>Customer5</td>\n",
       "      <td>140.92</td>\n",
       "      <td>1</td>\n",
       "    </tr>\n",
       "  </tbody>\n",
       "</table>\n",
       "</div>"
      ],
      "text/plain": [
       "         Date Firm bought from  Buying price  Quantity bought   Customer  \\\n",
       "0  2023-08-21          Vendor6         72.11               60  Customer7   \n",
       "1  2023-08-21          Vendor4         75.08               92  Customer7   \n",
       "2  2023-08-21          Vendor7         83.93               16  Customer2   \n",
       "3  2023-08-21          Vendor7         52.01               62  Customer3   \n",
       "4  2023-08-21          Vendor2         98.91                1  Customer5   \n",
       "\n",
       "   Selling price  Quantity sold  \n",
       "0          91.58             44  \n",
       "1          83.71             17  \n",
       "2         103.76             15  \n",
       "3          64.53              7  \n",
       "4         140.92              1  "
      ]
     },
     "execution_count": 128,
     "metadata": {},
     "output_type": "execute_result"
    }
   ],
   "source": [
    "data_2.head()"
   ]
  },
  {
   "cell_type": "code",
   "execution_count": 131,
   "id": "610f7179",
   "metadata": {},
   "outputs": [],
   "source": [
    "# Calculate the gross margin for each transaction\n",
    "data_2[\"Gross Margin\"] = data_2[\"Selling price\"] - data_2[\"Buying price\"]"
   ]
  },
  {
   "cell_type": "code",
   "execution_count": 132,
   "id": "02743266",
   "metadata": {},
   "outputs": [
    {
     "data": {
      "text/html": [
       "<div>\n",
       "<style scoped>\n",
       "    .dataframe tbody tr th:only-of-type {\n",
       "        vertical-align: middle;\n",
       "    }\n",
       "\n",
       "    .dataframe tbody tr th {\n",
       "        vertical-align: top;\n",
       "    }\n",
       "\n",
       "    .dataframe thead th {\n",
       "        text-align: right;\n",
       "    }\n",
       "</style>\n",
       "<table border=\"1\" class=\"dataframe\">\n",
       "  <thead>\n",
       "    <tr style=\"text-align: right;\">\n",
       "      <th></th>\n",
       "      <th>Date</th>\n",
       "      <th>Firm bought from</th>\n",
       "      <th>Buying price</th>\n",
       "      <th>Quantity bought</th>\n",
       "      <th>Customer</th>\n",
       "      <th>Selling price</th>\n",
       "      <th>Quantity sold</th>\n",
       "      <th>Gross Margin</th>\n",
       "    </tr>\n",
       "  </thead>\n",
       "  <tbody>\n",
       "    <tr>\n",
       "      <th>0</th>\n",
       "      <td>2023-08-21</td>\n",
       "      <td>Vendor6</td>\n",
       "      <td>72.11</td>\n",
       "      <td>60</td>\n",
       "      <td>Customer7</td>\n",
       "      <td>91.58</td>\n",
       "      <td>44</td>\n",
       "      <td>19.47</td>\n",
       "    </tr>\n",
       "    <tr>\n",
       "      <th>1</th>\n",
       "      <td>2023-08-21</td>\n",
       "      <td>Vendor4</td>\n",
       "      <td>75.08</td>\n",
       "      <td>92</td>\n",
       "      <td>Customer7</td>\n",
       "      <td>83.71</td>\n",
       "      <td>17</td>\n",
       "      <td>8.63</td>\n",
       "    </tr>\n",
       "    <tr>\n",
       "      <th>2</th>\n",
       "      <td>2023-08-21</td>\n",
       "      <td>Vendor7</td>\n",
       "      <td>83.93</td>\n",
       "      <td>16</td>\n",
       "      <td>Customer2</td>\n",
       "      <td>103.76</td>\n",
       "      <td>15</td>\n",
       "      <td>19.83</td>\n",
       "    </tr>\n",
       "    <tr>\n",
       "      <th>3</th>\n",
       "      <td>2023-08-21</td>\n",
       "      <td>Vendor7</td>\n",
       "      <td>52.01</td>\n",
       "      <td>62</td>\n",
       "      <td>Customer3</td>\n",
       "      <td>64.53</td>\n",
       "      <td>7</td>\n",
       "      <td>12.52</td>\n",
       "    </tr>\n",
       "    <tr>\n",
       "      <th>4</th>\n",
       "      <td>2023-08-21</td>\n",
       "      <td>Vendor2</td>\n",
       "      <td>98.91</td>\n",
       "      <td>1</td>\n",
       "      <td>Customer5</td>\n",
       "      <td>140.92</td>\n",
       "      <td>1</td>\n",
       "      <td>42.01</td>\n",
       "    </tr>\n",
       "    <tr>\n",
       "      <th>5</th>\n",
       "      <td>2023-08-21</td>\n",
       "      <td>Vendor9</td>\n",
       "      <td>63.34</td>\n",
       "      <td>89</td>\n",
       "      <td>Customer4</td>\n",
       "      <td>85.13</td>\n",
       "      <td>83</td>\n",
       "      <td>21.79</td>\n",
       "    </tr>\n",
       "    <tr>\n",
       "      <th>6</th>\n",
       "      <td>2023-08-21</td>\n",
       "      <td>Vendor2</td>\n",
       "      <td>74.34</td>\n",
       "      <td>7</td>\n",
       "      <td>Customer6</td>\n",
       "      <td>106.93</td>\n",
       "      <td>6</td>\n",
       "      <td>32.59</td>\n",
       "    </tr>\n",
       "    <tr>\n",
       "      <th>7</th>\n",
       "      <td>2023-08-21</td>\n",
       "      <td>Vendor3</td>\n",
       "      <td>98.11</td>\n",
       "      <td>62</td>\n",
       "      <td>Customer2</td>\n",
       "      <td>146.76</td>\n",
       "      <td>62</td>\n",
       "      <td>48.65</td>\n",
       "    </tr>\n",
       "    <tr>\n",
       "      <th>8</th>\n",
       "      <td>2023-08-21</td>\n",
       "      <td>Vendor1</td>\n",
       "      <td>20.95</td>\n",
       "      <td>95</td>\n",
       "      <td>Customer3</td>\n",
       "      <td>24.48</td>\n",
       "      <td>22</td>\n",
       "      <td>3.53</td>\n",
       "    </tr>\n",
       "    <tr>\n",
       "      <th>9</th>\n",
       "      <td>2023-08-21</td>\n",
       "      <td>Vendor5</td>\n",
       "      <td>88.45</td>\n",
       "      <td>39</td>\n",
       "      <td>Customer7</td>\n",
       "      <td>102.31</td>\n",
       "      <td>23</td>\n",
       "      <td>13.86</td>\n",
       "    </tr>\n",
       "  </tbody>\n",
       "</table>\n",
       "</div>"
      ],
      "text/plain": [
       "         Date Firm bought from  Buying price  Quantity bought   Customer  \\\n",
       "0  2023-08-21          Vendor6         72.11               60  Customer7   \n",
       "1  2023-08-21          Vendor4         75.08               92  Customer7   \n",
       "2  2023-08-21          Vendor7         83.93               16  Customer2   \n",
       "3  2023-08-21          Vendor7         52.01               62  Customer3   \n",
       "4  2023-08-21          Vendor2         98.91                1  Customer5   \n",
       "5  2023-08-21          Vendor9         63.34               89  Customer4   \n",
       "6  2023-08-21          Vendor2         74.34                7  Customer6   \n",
       "7  2023-08-21          Vendor3         98.11               62  Customer2   \n",
       "8  2023-08-21          Vendor1         20.95               95  Customer3   \n",
       "9  2023-08-21          Vendor5         88.45               39  Customer7   \n",
       "\n",
       "   Selling price  Quantity sold  Gross Margin  \n",
       "0          91.58             44         19.47  \n",
       "1          83.71             17          8.63  \n",
       "2         103.76             15         19.83  \n",
       "3          64.53              7         12.52  \n",
       "4         140.92              1         42.01  \n",
       "5          85.13             83         21.79  \n",
       "6         106.93              6         32.59  \n",
       "7         146.76             62         48.65  \n",
       "8          24.48             22          3.53  \n",
       "9         102.31             23         13.86  "
      ]
     },
     "execution_count": 132,
     "metadata": {},
     "output_type": "execute_result"
    }
   ],
   "source": [
    "data_2.head(10)"
   ]
  },
  {
   "cell_type": "code",
   "execution_count": 133,
   "id": "0959e636",
   "metadata": {},
   "outputs": [
    {
     "name": "stdout",
     "output_type": "stream",
     "text": [
      "Overall Gross Margin Percentage: 23.33236050738993\n"
     ]
    }
   ],
   "source": [
    "# Calculate the overall gross margin for sales_data_2\n",
    "overall_gross_margin = data_2[\"Gross Margin\"].sum()\n",
    "print(\"Overall Gross Margin Percentage:\", overall_gross_margin_percentage)"
   ]
  },
  {
   "cell_type": "markdown",
   "id": "c85fd5c6",
   "metadata": {},
   "source": [
    "question 6"
   ]
  },
  {
   "cell_type": "code",
   "execution_count": 134,
   "id": "5cd53e12",
   "metadata": {},
   "outputs": [],
   "source": [
    "# Calculate daily gross profit\n",
    "data_2['Daily Gross Profit'] = (data_2['Selling price'] - data_2['Buying price']) * (data_2['Quantity sold'] + data_2['Quantity bought'])"
   ]
  },
  {
   "cell_type": "code",
   "execution_count": 189,
   "id": "4fd8521e",
   "metadata": {},
   "outputs": [
    {
     "data": {
      "text/plain": [
       "0            NaN\n",
       "1            NaN\n",
       "2    1193.426667\n",
       "3     806.426667\n",
       "4     520.876667\n",
       "5    1565.260000\n",
       "6    1418.523333\n",
       "7    3401.383333\n",
       "8    2289.760000\n",
       "9    2434.976667\n",
       "Name: 3-Day Avg Gross Profit, dtype: float64"
      ]
     },
     "execution_count": 189,
     "metadata": {},
     "output_type": "execute_result"
    }
   ],
   "source": [
    "# Calculate the 3-day average of daily gross profit\n",
    "data_2['3-Day Avg Gross Profit'] = data_2['Daily Gross Profit'].rolling(window=3).mean()\n",
    "data_2['3-Day Avg Gross Profit'].head(10)"
   ]
  },
  {
   "cell_type": "markdown",
   "id": "ef61c3a9",
   "metadata": {},
   "source": [
    "question 7"
   ]
  },
  {
   "cell_type": "code",
   "execution_count": 136,
   "id": "5ec71c05",
   "metadata": {},
   "outputs": [
    {
     "data": {
      "image/png": "[encoded data removed]",
      "text/plain": [
       "<Figure size 864x432 with 1 Axes>"
      ]
     },
     "metadata": {
      "needs_background": "light"
     },
     "output_type": "display_data"
    }
   ],
   "source": [
    "#visualize the 3-day average profit trend\n",
    "import matplotlib.pyplot as plt\n",
    "\n",
    "plt.figure(figsize=(12, 6))\n",
    "plt.plot(data_2['Date'], data_2['3-Day Avg Gross Profit'], label='3-Day Avg Gross Profit')\n",
    "plt.xlabel('Date')\n",
    "plt.ylabel('3-Day Avg Gross Profit')\n",
    "plt.title('3-Day Average Gross Profit Trend Over Time')\n",
    "plt.legend()\n",
    "plt.grid(True)\n",
    "plt.show()"
   ]
  },
  {
   "cell_type": "markdown",
   "id": "1cebe32f",
   "metadata": {},
   "source": [
    "question 8"
   ]
  },
  {
   "cell_type": "code",
   "execution_count": 160,
   "id": "0b4266e6",
   "metadata": {},
   "outputs": [],
   "source": [
    "# Group data by Vendor and calculate original gross margin\n",
    "original_gross_margin = ((data_2['Selling price'] - data_2['Buying price']) * (data_2['Quantity sold'] + data_2['Quantity bought'])).sum()"
   ]
  },
  {
   "cell_type": "code",
   "execution_count": 161,
   "id": "47a1b2ad",
   "metadata": {},
   "outputs": [
    {
     "name": "stdout",
     "output_type": "stream",
     "text": [
      "Vendors that could be fired to increase gross margin: ['Vendor6', 'Vendor4', 'Vendor7', 'Vendor2', 'Vendor9', 'Vendor3', 'Vendor1', 'Vendor5', 'Vendor10', 'Vendor8']\n"
     ]
    }
   ],
   "source": [
    "# Create an empty dictionary to store the impact of firing vendors\n",
    "vendor_impact = {}\n",
    "\n",
    "# Iterate through each vendor and calculate the gross margin without their transactions\n",
    "for vendor in data_2['Firm bought from'].unique():\n",
    "    vendor_data = data_2[data_2['Firm bought from'] != vendor]\n",
    "    new_gross_margin = ((vendor_data['Selling price'] - vendor_data['Buying price']) * (vendor_data['Quantity sold'] + vendor_data['Quantity bought'])).sum()\n",
    "    impact = original_gross_margin - new_gross_margin\n",
    "    vendor_impact[vendor] = impact\n",
    "\n",
    "# Find vendors with a positive impact (increase in gross margin)\n",
    "profitable_vendors = [vendor for vendor, impact in vendor_impact.items() if impact > 0]\n",
    "\n",
    "print(\"Vendors that could be fired to increase gross margin:\", profitable_vendors)\n"
   ]
  },
  {
   "cell_type": "markdown",
   "id": "3ebb549c",
   "metadata": {},
   "source": [
    "question 9"
   ]
  },
  {
   "cell_type": "code",
   "execution_count": 163,
   "id": "7687ea4f",
   "metadata": {},
   "outputs": [
    {
     "name": "stdout",
     "output_type": "stream",
     "text": [
      "Customers that could be let go to increase gross margin: ['Customer7', 'Customer2', 'Customer3', 'Customer5', 'Customer4', 'Customer6', 'Customer10', 'Customer8', 'Customer9', 'Customer1']\n"
     ]
    }
   ],
   "source": [
    "# Create an empty dictionary to store the impact of letting go of customers\n",
    "customer_impact = {}\n",
    "\n",
    "# Iterate through each customer and calculate the gross margin without their transactions\n",
    "for customer in data_2['Customer'].unique():\n",
    "    customer_data = data_2[data_2['Customer'] != customer]\n",
    "    new_gross_margin = ((customer_data['Selling price'] - customer_data['Buying price']) * (customer_data['Quantity sold'] + customer_data['Quantity bought'])).sum()\n",
    "    impact = original_gross_margin - new_gross_margin\n",
    "    customer_impact[customer] = impact\n",
    "\n",
    "# Find customers with a positive impact (increase in gross margin)\n",
    "profitable_customers = [customer for customer, impact in customer_impact.items() if impact > 0]\n",
    "\n",
    "print(\"Customers that could be let go to increase gross margin:\", profitable_customers)"
   ]
  },
  {
   "cell_type": "markdown",
   "id": "68b36ddb",
   "metadata": {},
   "source": [
    "question 10"
   ]
  },
  {
   "cell_type": "code",
   "execution_count": 164,
   "id": "a4e3d927",
   "metadata": {},
   "outputs": [],
   "source": [
    "#Calculate Percentiles for Buying and Selling Prices\n",
    "buying_price_percentiles = data_2['Buying price'].quantile([0.25, 0.5, 0.75])\n",
    "selling_price_percentiles = data_2['Selling price'].quantile([0.25, 0.5, 0.75])"
   ]
  },
  {
   "cell_type": "code",
   "execution_count": 170,
   "id": "1718536f",
   "metadata": {},
   "outputs": [
    {
     "name": "stdout",
     "output_type": "stream",
     "text": [
      "Buying price percentiles:\n",
      " 0.25    29.90\n",
      "0.50    60.76\n",
      "0.75    78.32\n",
      "Name: Buying price, dtype: float64\n",
      "\n",
      "Selling price percentiles:\n",
      " 0.25     38.9750\n",
      "0.50     78.9900\n",
      "0.75    103.3975\n",
      "Name: Selling price, dtype: float64\n"
     ]
    }
   ],
   "source": [
    "print(\"Buying price percentiles:\\n\",buying_price_percentiles)\n",
    "print(\"\\nSelling price percentiles:\\n\",selling_price_percentiles)"
   ]
  },
  {
   "cell_type": "markdown",
   "id": "9a7c28a9",
   "metadata": {},
   "source": [
    "question 11"
   ]
  },
  {
   "cell_type": "code",
   "execution_count": 171,
   "id": "00c9ba31",
   "metadata": {},
   "outputs": [
    {
     "name": "stdout",
     "output_type": "stream",
     "text": [
      "Count of buying prices below 25th percentile: 18\n",
      "Count of buying prices above 75th percentile: 18\n",
      "Count of selling prices below 25th percentile: 18\n",
      "Count of selling prices above 75th percentile: 18\n"
     ]
    }
   ],
   "source": [
    "# Calculate the 25th and 75th percentiles for buying and selling prices\n",
    "buying_price_25th_percentile = data_2['Buying price'].quantile(0.25)\n",
    "buying_price_75th_percentile = data_2['Buying price'].quantile(0.75)\n",
    "\n",
    "selling_price_25th_percentile = data_2['Selling price'].quantile(0.25)\n",
    "selling_price_75th_percentile = data_2['Selling price'].quantile(0.75)\n",
    "\n",
    "# Count how often prices fall below the 25th percentile or above the 75th percentile\n",
    "below_25th_percentile_buying = (data_2['Buying price'] < buying_price_25th_percentile).sum()\n",
    "above_75th_percentile_buying = (data_2['Buying price'] > buying_price_75th_percentile).sum()\n",
    "\n",
    "below_25th_percentile_selling = (data_2['Selling price'] < selling_price_25th_percentile).sum()\n",
    "above_75th_percentile_selling = (data_2['Selling price'] > selling_price_75th_percentile).sum()\n",
    "\n",
    "print(\"Count of buying prices below 25th percentile:\", below_25th_percentile_buying)\n",
    "print(\"Count of buying prices above 75th percentile:\", above_75th_percentile_buying)\n",
    "print(\"Count of selling prices below 25th percentile:\", below_25th_percentile_selling)\n",
    "print(\"Count of selling prices above 75th percentile:\", above_75th_percentile_selling)"
   ]
  },
  {
   "cell_type": "markdown",
   "id": "e45500af",
   "metadata": {},
   "source": [
    "question 12"
   ]
  },
  {
   "cell_type": "code",
   "execution_count": 180,
   "id": "e0f6bfbe",
   "metadata": {},
   "outputs": [
    {
     "name": "stdout",
     "output_type": "stream",
     "text": [
      "Impact of honoring Vendor 4 on gross margin: -90113.73999999998\n"
     ]
    }
   ],
   "source": [
    "# Filter the data to include only Vendor 4's transactions\n",
    "vendor_4_data = data_2[data_2['Firm bought from'] == 'Vendor 4']\n",
    "\n",
    "# Calculate the gross margin with only Vendor 4's transactions\n",
    "vendor_4_gross_margin = ((vendor_4_data['Selling price'] - vendor_4_data['Buying price']) * (vendor_4_data['Quantity sold'] + vendor_4_data['Quantity bought'])).sum()\n",
    "\n",
    "# Calculate the impact on gross margin\n",
    "impact = vendor_4_gross_margin - original_gross_margin\n",
    "\n",
    "print(\"Impact of honoring Vendor 4 on gross margin:\", impact)\n"
   ]
  },
  {
   "cell_type": "markdown",
   "id": "89cd81b7",
   "metadata": {},
   "source": [
    "question 13"
   ]
  },
  {
   "cell_type": "code",
   "execution_count": 183,
   "id": "80453f20",
   "metadata": {},
   "outputs": [
    {
     "name": "stdout",
     "output_type": "stream",
     "text": [
      "Vendor for strategic tie-up: Vendor7\n",
      "Theoretical maximum margin from that vendor: 16923.05\n"
     ]
    }
   ],
   "source": [
    "# Calculate the gross margin for each vendor separately\n",
    "vendor_gross_margin = (data_2['Selling price'] - data_2['Buying price']) * (data_2['Quantity sold'] + data_2['Quantity bought'])\n",
    "\n",
    "# Group the data by Vendor and calculate the total gross margin for each vendor\n",
    "total_vendor_gross_margin = vendor_gross_margin.groupby(data_2['Firm bought from']).sum()\n",
    "\n",
    "# Find the vendor with the highest gross margin\n",
    "best_vendor = total_vendor_gross_margin.idxmax()\n",
    "\n",
    "# Calculate the theoretical maximum margin from the best vendor\n",
    "theoretical_max_margin = total_vendor_gross_margin.max()\n",
    "\n",
    "print(\"Vendor for strategic tie-up:\", best_vendor)\n",
    "print(\"Theoretical maximum margin from that vendor:\", theoretical_max_margin)\n"
   ]
  },
  {
   "cell_type": "markdown",
   "id": "79e93164",
   "metadata": {},
   "source": [
    "question 14"
   ]
  },
  {
   "cell_type": "code",
   "execution_count": 186,
   "id": "837fe69b",
   "metadata": {},
   "outputs": [
    {
     "name": "stdout",
     "output_type": "stream",
     "text": [
      "Price Elasticity of Sapota: 1.2222618829932166\n"
     ]
    }
   ],
   "source": [
    "import statsmodels.api as sm\n",
    "\n",
    "# Create a new column for total revenue (price * quantity sold)\n",
    "data_2['Total Revenue'] = data_2['Selling price'] * data_2['Quantity sold']\n",
    "\n",
    "# Define the independent variable (price) and the dependent variable (total revenue)\n",
    "X = data_2['Selling price']\n",
    "y = data_2['Total Revenue']\n",
    "\n",
    "# Add a constant to the independent variable (intercept)\n",
    "X = sm.add_constant(X)\n",
    "\n",
    "# Fit a linear regression model\n",
    "model = sm.OLS(y, X).fit()\n",
    "\n",
    "# Get the regression coefficients\n",
    "intercept, price_coefficient = model.params\n",
    "\n",
    "# Calculate the price elasticity\n",
    "price_elasticity = price_coefficient * (data_2['Selling price'].mean() / data_2['Total Revenue'].mean())\n",
    "\n",
    "print(\"Price Elasticity of Sapota:\", price_elasticity)"
   ]
  },
  {
   "cell_type": "code",
   "execution_count": null,
   "id": "38cd9935",
   "metadata": {},
   "outputs": [],
   "source": []
  }
 ],
 "metadata": {
  "kernelspec": {
   "display_name": "Python 3 (ipykernel)",
   "language": "python",
   "name": "python3"
  },
  "language_info": {
   "codemirror_mode": {
    "name": "ipython",
    "version": 3
   },
   "file_extension": ".py",
   "mimetype": "text/x-python",
   "name": "python",
   "nbconvert_exporter": "python",
   "pygments_lexer": "ipython3",
   "version": "3.9.12"
  }
 },
 "nbformat": 4,
 "nbformat_minor": 5
}
